{
  "nbformat": 4,
  "nbformat_minor": 0,
  "metadata": {
    "colab": {
      "name": "Task2.ipynb",
      "version": "0.3.2",
      "provenance": [],
      "private_outputs": true,
      "include_colab_link": true
    },
    "kernelspec": {
      "name": "python3",
      "display_name": "Python 3"
    }
  },
  "cells": [
    {
      "cell_type": "markdown",
      "metadata": {
        "id": "view-in-github",
        "colab_type": "text"
      },
      "source": [
        "<a href=\"https://colab.research.google.com/github/BatalovaEvgeniya/HSE_ML_2018-2019/blob/master/Task2.ipynb\" target=\"_parent\"><img src=\"https://colab.research.google.com/assets/colab-badge.svg\" alt=\"Open In Colab\"/></a>"
      ]
    },
    {
      "cell_type": "code",
      "metadata": {
        "id": "FTKrhz5TDQfA",
        "colab_type": "code",
        "colab": {}
      },
      "source": [
        "import pandas as pd\n",
        "import numpy as np\n",
        "import seaborn as sns\n",
        "import matplotlib.pyplot as plt\n",
        "import warnings\n",
        "warnings.filterwarnings(\"ignore\")"
      ],
      "execution_count": 0,
      "outputs": []
    },
    {
      "cell_type": "code",
      "metadata": {
        "id": "ry-ofJI7V7yZ",
        "colab_type": "code",
        "colab": {}
      },
      "source": [
        "from google.colab import drive\n",
        "drive.mount('/content/gdrive')"
      ],
      "execution_count": 0,
      "outputs": []
    },
    {
      "cell_type": "code",
      "metadata": {
        "id": "9QJyyjs8V9Zo",
        "colab_type": "code",
        "colab": {}
      },
      "source": [
        "!pip install xmltodict"
      ],
      "execution_count": 0,
      "outputs": []
    },
    {
      "cell_type": "code",
      "metadata": {
        "id": "tKJ088-lWDFW",
        "colab_type": "code",
        "colab": {}
      },
      "source": [
        "def xml_to_df(path):\n",
        "  import xmltodict\n",
        "  from xml.parsers.expat import ExpatError\n",
        "  with open(path) as f:\n",
        "    data = f.read()\n",
        "    try:\n",
        "        doc = xmltodict.parse(data)\n",
        "    except ExpatError:\n",
        "        doc = xmltodict.parse(data[3:])\n",
        "        \n",
        "  df = pd.DataFrame(list(list(list(doc.values())[0].items())[0][1].values())[1])\n",
        "  df['report_period_end'] = df['report_period_end'].apply(lambda x: x.split('-')[0] )\n",
        "  df.value = df.value.astype('int32')\n",
        "  df = df.drop('report_period_begin', axis=1)\n",
        "  df = df.groupby(['region_name','report_period_end'])['value'].sum()\n",
        "  \n",
        "      \n",
        "  \n",
        "  region_year_index = []\n",
        "  for region in df.index.levels[0]:\n",
        "    for year in df.xs(region).index:\n",
        "      region_year_index.append(str(region + ' ' + year))\n",
        "  df = pd.DataFrame(df.values, index=region_year_index).T\n",
        "  \n",
        "  \n",
        "  \n",
        "  \n",
        "  for column_name in df.columns.values:\n",
        "    if 'Федерация' in column_name or 'федеральный округ' in column_name or 'без авт' in column_name or ' ФО ' in column_name:\n",
        "      df = df.drop(column_name, axis=1)\n",
        "      continue\n",
        "    if '  в том числе:\\n' in column_name:\n",
        "      df = df.rename({column_name: column_name.split('\\n')[1]}, axis='columns')\n",
        "      continue\n",
        "    if 'в том числе' in column_name:\n",
        "      temp_split = column_name.split(' ')\n",
        "      if len(temp_split) > 3:\n",
        "        df_f= df.rename({column_name: temp_split[3] + ' ' + temp_split[4]}, axis='columns')\n",
        "      else:\n",
        "        df_ = df.drop(column_name, axis=1)\n",
        "      continue\n",
        "      \n",
        "    \n",
        "      \n",
        "  for column_name in df.columns.values:\n",
        "    if 'г.' in column_name :\n",
        "      temp_split = column_name.split(' ')\n",
        "      if len(temp_split)>1:\n",
        "        df = df.rename({column_name: temp_split[0] + temp_split[1]}, axis='columns')\n",
        "    if 'г .' in column_name :\n",
        "      temp_split = column_name.split(' ')\n",
        "      if len(temp_split)>1:\n",
        "        df = df.rename({column_name: temp_split[0] + temp_split[1:]}, axis='columns')\n",
        "  df_res = df.T\n",
        "\n",
        "  \n",
        "  return df_res"
      ],
      "execution_count": 0,
      "outputs": []
    },
    {
      "cell_type": "code",
      "metadata": {
        "id": "CMkMSIVSWG0X",
        "colab_type": "code",
        "colab": {}
      },
      "source": [
        "def xls_parcer(path, label):\n",
        "  df_ = pd.read_excel(path, encoding='cp1251')\n",
        "  df_ = df_.T\n",
        "  df_.columns = df_.iloc[0]\n",
        "  df_ = df_.drop(df_.index[0], axis=0)\n",
        "  for column_name in df_.columns.values:\n",
        "    if type(column_name) != str:\n",
        "      continue\n",
        "    if 'Федерация' in column_name or 'федеральный округ' in column_name or 'без авт' in column_name or ' ФО ' in column_name:\n",
        "      df_ = df_.drop(column_name, axis=1)\n",
        "      continue\n",
        "    if '  в том числе:\\n' in column_name:\n",
        "      df_ = df_.rename({column_name: column_name.split('\\n')[1]}, axis='columns')\n",
        "      continue\n",
        "    if 'в том числе' in column_name:\n",
        "      temp_split = column_name.split(' ')\n",
        "      if len(temp_split) > 3:\n",
        "        df_ = df_.rename({column_name: temp_split[3] + ' ' + temp_split[4]}, axis='columns')\n",
        "      else:\n",
        "        df_ = df_.drop(column_name, axis=1)\n",
        "      continue\n",
        "      \n",
        "      \n",
        "  for column_name in df_.columns.values:\n",
        "    if type(column_name) != str:\n",
        "      continue\n",
        "    if 'г.' in column_name:\n",
        "      temp_split = column_name.split(' ')\n",
        "      if len(temp_split)>1:\n",
        "        df_ = df_.rename({column_name: temp_split[0] + temp_split[1]}, axis='columns')\n",
        "    if 'авт.' in column_name:\n",
        "      temp_split = column_name.split(' ')\n",
        "      df_ = df_.rename({column_name:temp_split[0] + ' АО' }, axis='columns')\n",
        "    if 'автономная ' in column_name or 'автономный ' in column_name:\n",
        "      temp_split = column_name.split(' ')\n",
        "      df_ = df_.rename({column_name:temp_split[0] + ' АО' }, axis='columns')\n",
        "    if column_name == ' ':\n",
        "      try:\n",
        "        df_ = df_.drop(column_name, axis=1)\n",
        "      except:\n",
        "        continue\n",
        "  cols = []\n",
        "  for col_ in df_.columns:\n",
        "    if type(col_)==str:\n",
        "      cols.append(col_)\n",
        "  print()\n",
        "  df_.columns = cols\n",
        "  region_year_index = []\n",
        "  for region in df_.columns:\n",
        "    for year in df_.index:\n",
        "      region_year_index.append(str(region + ' ' + str(year)))\n",
        "  df_ = df_.T\n",
        "  df_res = pd.DataFrame(df_.values.flatten(), index=region_year_index, columns=[str(label)])\n",
        "  return df_res"
      ],
      "execution_count": 0,
      "outputs": []
    },
    {
      "cell_type": "code",
      "metadata": {
        "id": "Qv2DQ8cM0ILO",
        "colab_type": "code",
        "colab": {}
      },
      "source": [
        "def xls_parcer_with_date(path, label, year):\n",
        "  df_ = pd.read_excel(path, encoding='cp1251', header=1)\n",
        "  df_ = df_.T\n",
        "  df_.columns = df_.iloc[0]\n",
        "  df_ = df_.drop(df_.index[0], axis=0)\n",
        "  for column_name in df_.columns.values:\n",
        "    if type(column_name) != str:\n",
        "      continue\n",
        "    if 'Федерация' in column_name or 'федеральный округ' in column_name or 'без авт' in column_name or ' ФО ' in column_name:\n",
        "      df_ = df_.drop(column_name, axis=1)\n",
        "      continue\n",
        "    if '  в том числе:\\n' in column_name:\n",
        "      df_ = df_.rename({column_name: column_name.split('\\n')[1]}, axis='columns')\n",
        "      continue\n",
        "    if 'в том числе' in column_name:\n",
        "      temp_split = column_name.split(' ')\n",
        "      if len(temp_split) > 3:\n",
        "        df_ = df_.rename({column_name: temp_split[3] + ' ' + temp_split[4]}, axis='columns')\n",
        "      else:\n",
        "        df_ = df_.drop(column_name, axis=1)\n",
        "      continue\n",
        "  for column_name in df_.columns.values:\n",
        "    if type(column_name) != str:\n",
        "      continue\n",
        "    temp_split = column_name.split(' ')\n",
        "    if 'г.' in column_name:\n",
        "      if len(temp_split)>1:\n",
        "        df_ = df_.rename({column_name: temp_split[0] + temp_split[1]}, axis='columns')\n",
        "    if '(' in column_name:\n",
        "      temp_split = column_name.split(' (')\n",
        "      df_ = df_.rename({column_name:temp_split[0]}, axis='columns')\n",
        "    if 'авт.' in column_name:\n",
        "      df_ = df_.rename({column_name:temp_split[0] + ' АО' }, axis='columns')\n",
        "    if 'автономная ' in column_name or 'автономный ' in column_name:\n",
        "      df_ = df_.rename({column_name:temp_split[0] + ' АО' }, axis='columns')\n",
        "    if column_name == ' ':\n",
        "      try:\n",
        "        df_ = df_.drop(column_name, axis=1)\n",
        "      except:\n",
        "        continue\n",
        "  cols = []\n",
        "  for col_ in df_.columns:\n",
        "    if type(col_)==str:\n",
        "      cols.append(col_)\n",
        "  df_.columns = cols\n",
        "  region_year_index = []\n",
        "  for region in df_.columns:\n",
        "    region_year_index.append(str(region + ' ' + str(year)))\n",
        "  \n",
        "  df_ = df_.T\n",
        "  \n",
        "  df_res = pd.DataFrame(df_.values, index=region_year_index, columns=label)\n",
        "  return df_res"
      ],
      "execution_count": 0,
      "outputs": []
    },
    {
      "cell_type": "code",
      "metadata": {
        "id": "wRD4IdJ0WJfX",
        "colab_type": "code",
        "colab": {}
      },
      "source": [
        "path = 'gdrive/My Drive/Colab Notebooks/crimes/'"
      ],
      "execution_count": 0,
      "outputs": []
    },
    {
      "cell_type": "code",
      "metadata": {
        "id": "pX-OzCiJWM3o",
        "colab_type": "code",
        "colab": {}
      },
      "source": [
        "df_crimes = xml_to_df(path + 'Всего зарегистрировано преступлений.xml')"
      ],
      "execution_count": 0,
      "outputs": []
    },
    {
      "cell_type": "code",
      "metadata": {
        "id": "854MAx18WOoq",
        "colab_type": "code",
        "colab": {}
      },
      "source": [
        "df_corp_2018 = xls_parcer_with_date(path + 'demb-dem-pok-sub-2018.xlsx', ['Кол-во актвивных предприятий', 'Кол-во умерших предприятий'] ,2018)\n",
        "df_invest = xls_parcer(path + 'invest_sub.xlsx', 'Инвестиции')\n",
        "df_unemployment = xls_parcer(path + 'trud6_15-72.xlsx', 'Уровень безработицы')"
      ],
      "execution_count": 0,
      "outputs": []
    },
    {
      "cell_type": "code",
      "metadata": {
        "id": "vZ9ZB7RN_6gc",
        "colab_type": "code",
        "colab": {}
      },
      "source": [
        ""
      ],
      "execution_count": 0,
      "outputs": []
    },
    {
      "cell_type": "code",
      "metadata": {
        "id": "4OYz4lWgx253",
        "colab_type": "code",
        "colab": {}
      },
      "source": [
        "year_  = '2018'\n",
        "\n",
        "\n",
        "ind_inv, value_inv = [], []\n",
        "for i in range(len(df_invest.index)):\n",
        "  for j in range(len(df_crimes.index)):\n",
        "    temp_split = df_invest.index[i].split(' ')\n",
        "    if (df_invest.index[i] == df_crimes.index[j]) and temp_split[-1] == year_:\n",
        "      ind_inv.append(df_invest.index[i])\n",
        "      value_inv.append(df_invest.iloc[i][0])\n",
        "      continue\n",
        "      \n",
        "      \n",
        "ind_unemp, value_unemp = [], []\n",
        "for i in range(len(df_unemployment.index)):\n",
        "  for j in range(len(ind_inv)):\n",
        "    temp_split = df_unemployment.index[i].split(' ')\n",
        "    if(df_unemployment.index[i] == ind_inv[j]) and temp_split[-1] == year_:\n",
        "      ind_unemp.append(df_unemployment.index[i])\n",
        "      value_unemp.append(df_unemployment.iloc[i][0])\n",
        "    \n",
        "ind_crime, value_crime = [], []\n",
        "for i in range(len(df_crimes.index)):\n",
        "  for j in range(len(ind_inv)):\n",
        "    temp_split = df_crimes.index[i].split(' ')\n",
        "    if (ind_inv[j] == df_crimes.index[i]) and temp_split[-1] == year_:\n",
        "      ind_crime.append(df_crimes.index[i])\n",
        "      value_crime.append(df_crimes.iloc[i][0])\n",
        "      continue"
      ],
      "execution_count": 0,
      "outputs": []
    },
    {
      "cell_type": "code",
      "metadata": {
        "id": "04oJ8vPl53-J",
        "colab_type": "code",
        "colab": {}
      },
      "source": [
        "print(len(ind_unemp), len(ind_inv), len(ind_crime))"
      ],
      "execution_count": 0,
      "outputs": []
    },
    {
      "cell_type": "code",
      "metadata": {
        "id": "Kwna_ey5AqCh",
        "colab_type": "code",
        "colab": {}
      },
      "source": [
        "df_inv = pd.DataFrame(value_inv, index=ind_inv, columns=df_invest.columns)\n",
        "df_unemp = pd.DataFrame(value_unemp, index=ind_unemp, columns=df_unemployment.columns)\n",
        "df_cr = pd.DataFrame(value_crime, index=ind_crime, columns=['Уровень преступности'])"
      ],
      "execution_count": 0,
      "outputs": []
    },
    {
      "cell_type": "code",
      "metadata": {
        "id": "3Jak7azu9G0L",
        "colab_type": "code",
        "colab": {}
      },
      "source": [
        "df_all = df_inv.merge(df_cr, how='left',left_index=True, right_index=True)\n",
        "df_all = df_all.merge(df_corp_2018, how='left',left_index=True, right_index=True)\n",
        "df_all.head()"
      ],
      "execution_count": 0,
      "outputs": []
    },
    {
      "cell_type": "code",
      "metadata": {
        "id": "h0zYSLZEAnJV",
        "colab_type": "code",
        "colab": {}
      },
      "source": [
        "df_all.isna().sum()"
      ],
      "execution_count": 0,
      "outputs": []
    },
    {
      "cell_type": "code",
      "metadata": {
        "id": "Z02nNGkjCTUe",
        "colab_type": "code",
        "colab": {}
      },
      "source": [
        "df_all = df_all.dropna()\n",
        "df_all.isna().sum()"
      ],
      "execution_count": 0,
      "outputs": []
    },
    {
      "cell_type": "code",
      "metadata": {
        "id": "yIzK3TwjCxCf",
        "colab_type": "code",
        "colab": {}
      },
      "source": [
        "from sklearn.preprocessing import MinMaxScaler\n",
        "\n",
        "scaler = MinMaxScaler()\n",
        "df_scaled = scaler.fit_transform(df_all.values)\n",
        "\n",
        "df_scaled = pd.DataFrame(df_scaled, index=df_all.index, columns=df_all.columns)\n",
        "\n",
        "X, y = df_scaled.drop('Уровень преступности', axis=1), df_scaled['Уровень преступности']"
      ],
      "execution_count": 0,
      "outputs": []
    },
    {
      "cell_type": "code",
      "metadata": {
        "id": "cr3O3DQqC_za",
        "colab_type": "code",
        "colab": {}
      },
      "source": [
        "sns.set()\n",
        "sns.pairplot(df_scaled, size = 3.5);\n",
        "plt.show();"
      ],
      "execution_count": 0,
      "outputs": []
    },
    {
      "cell_type": "code",
      "metadata": {
        "id": "MDoiW40vDHf0",
        "colab_type": "code",
        "colab": {}
      },
      "source": [
        "from scipy import stats\n",
        "import matplotlib.pyplot as plt\n",
        "import matplotlib.font_manager\n",
        "\n",
        "from sklearn import svm\n",
        "from sklearn.covariance import EllipticEnvelope\n",
        "from sklearn.ensemble import IsolationForest\n",
        "from sklearn.neighbors import LocalOutlierFactor\n",
        "\n",
        "def OutLierDetection(df,feature1,feature2,outliers_fraction=0.3):\n",
        "    \n",
        "    new_df = df.copy()\n",
        "    rng = np.random.RandomState(42)\n",
        "\n",
        "    # Example settings\n",
        "    n_samples = new_df.shape[0]\n",
        "#     outliers_fraction = 0.2 # ************************************** imp\n",
        "    clusters_separation = [0]#, 1, 2]\n",
        "\n",
        "    # define two outlier detection tools to be compared\n",
        "    classifiers = {\n",
        "        #\"One-Class SVM\": svm.OneClassSVM(nu=0.95 * outliers_fraction + 0.05,\n",
        "           #                              kernel=\"rbf\", gamma=0.1),\n",
        "        #\"Robust covariance\": EllipticEnvelope(contamination=outliers_fraction),\n",
        "        \"Isolation Forest\": IsolationForest(max_samples=n_samples,\n",
        "                                            contamination=outliers_fraction,\n",
        "                                            random_state=rng),\n",
        "        #\"Local Outlier Factor\": LocalOutlierFactor(\n",
        "         #   n_neighbors=35,\n",
        "            #contamination=outliers_fraction)\n",
        "    }\n",
        "\n",
        "    \n",
        "    xx, yy = np.meshgrid(np.linspace(new_df[feature1].min()-new_df[feature1].min()*10/100, \n",
        "                                     new_df[feature1].max()+new_df[feature1].max()*10/100, 50),\n",
        "                         np.linspace(new_df[feature2].min()-new_df[feature2].min()*10/100,\n",
        "                                     new_df[feature2].max()+new_df[feature2].max()*10/100, 50))\n",
        "\n",
        "\n",
        "    n_inliers = int((1. - outliers_fraction) * n_samples)\n",
        "    n_outliers = int(outliers_fraction * n_samples)\n",
        "    ground_truth = np.ones(n_samples, dtype=int)\n",
        "    ground_truth[-n_outliers:] = -1\n",
        "\n",
        "    # Fit the problem with varying cluster separation\n",
        "    for i, offset in enumerate(clusters_separation):\n",
        "        np.random.seed(42)\n",
        "        # Data generation\n",
        "\n",
        "        X = new_df[[feature1,feature2]].values.tolist()\n",
        "\n",
        "        # Fit the model\n",
        "        plt.figure(figsize=(9, 7))\n",
        "        for i, (clf_name, clf) in enumerate(classifiers.items()):\n",
        "            # fit the data and tag outliers\n",
        "            if clf_name == \"Local Outlier Factor\":\n",
        "                y_pred = clf.fit_predict(X)\n",
        "                scores_pred = clf.negative_outlier_factor_\n",
        "            else:\n",
        "                clf.fit(X)\n",
        "                scores_pred = clf.decision_function(X)\n",
        "                y_pred = clf.predict(X)\n",
        "            threshold = stats.scoreatpercentile(scores_pred,\n",
        "                                                100 * outliers_fraction)\n",
        "            n_errors = (y_pred != ground_truth).sum()\n",
        "            \n",
        "            unique, counts = np.unique(y_pred,return_counts=True)\n",
        "            print(clf_name,dict(zip(unique, counts)))\n",
        "            \n",
        "            new_df[feature1+'_'+feature2+clf_name] = y_pred\n",
        "#             print(clf_name,y_pred) \n",
        "            # plot the levels lines and the points\n",
        "            if clf_name == \"Local Outlier Factor\":\n",
        "                # decision_function is private for LOF\n",
        "                Z = clf._decision_function(np.c_[xx.ravel(), yy.ravel()])\n",
        "            else:\n",
        "                Z = clf.decision_function(np.c_[xx.ravel(), yy.ravel()])\n",
        "            Z = Z.reshape(xx.shape)\n",
        "            subplot = plt.subplot(2, 2, i + 1)\n",
        "            subplot.contourf(xx, yy, Z, levels=np.linspace(Z.min(), threshold, 7),\n",
        "                             cmap=plt.cm.Blues_r)\n",
        "            a = subplot.contour(xx, yy, Z, levels=[threshold],\n",
        "                                linewidths=2, colors='red')\n",
        "            subplot.contourf(xx, yy, Z, levels=[threshold, Z.max()],\n",
        "                             colors='orange')\n",
        "            b = plt.scatter(new_df[feature1], new_df[feature2], c='white',\n",
        "                     s=20, edgecolor='k')\n",
        "\n",
        "            subplot.axis('tight')\n",
        "\n",
        "            subplot.set_xlabel(\"%s\" % (feature1))\n",
        " \n",
        "            plt.ylabel(feature2)#, fontsize=18)\n",
        "            plt.title(\"%d. %s (errors: %d)\" % (i + 1, clf_name, n_errors))\n",
        "\n",
        "        plt.subplots_adjust(0.04, 0.1, 0.96, 0.94, 0.1, 0.26)\n",
        "#         plt.suptitle(\"Outlier detection\")\n",
        "\n",
        "    plt.show();\n",
        "    return new_df"
      ],
      "execution_count": 0,
      "outputs": []
    },
    {
      "cell_type": "code",
      "metadata": {
        "id": "sREH74J0EEie",
        "colab_type": "code",
        "colab": {}
      },
      "source": [
        "df_all.columns"
      ],
      "execution_count": 0,
      "outputs": []
    },
    {
      "cell_type": "code",
      "metadata": {
        "id": "2Q2iQH3ND9gr",
        "colab_type": "code",
        "colab": {}
      },
      "source": [
        "df_scaled = OutLierDetection(df_scaled, 'Инвестиции', 'Кол-во умерших предприятий', outliers_fraction=0.1)"
      ],
      "execution_count": 0,
      "outputs": []
    },
    {
      "cell_type": "code",
      "metadata": {
        "id": "FWzmZS2gEPkL",
        "colab_type": "code",
        "colab": {}
      },
      "source": [
        "df_scaled = OutLierDetection(df_scaled, 'Уровень преступности', 'Кол-во актвивных предприятий', 0.1)"
      ],
      "execution_count": 0,
      "outputs": []
    },
    {
      "cell_type": "code",
      "metadata": {
        "id": "nRlrHpb9E_va",
        "colab_type": "code",
        "colab": {}
      },
      "source": [
        "df_scaled = OutLierDetection(df_scaled, 'Уровень преступности', 'Кол-во умерших предприятий', 0.07)"
      ],
      "execution_count": 0,
      "outputs": []
    },
    {
      "cell_type": "code",
      "metadata": {
        "id": "LX8dZ06QFR2N",
        "colab_type": "code",
        "colab": {}
      },
      "source": [
        "from sklearn.model_selection import train_test_split\n",
        "X_train, X_test, y_train, y_test = train_test_split(X, y, test_size=0.2)"
      ],
      "execution_count": 0,
      "outputs": []
    },
    {
      "cell_type": "code",
      "metadata": {
        "id": "I0aa52StFdpD",
        "colab_type": "code",
        "colab": {}
      },
      "source": [
        "from sklearn import linear_model\n",
        "from sklearn.pipeline import Pipeline\n",
        "from sklearn.metrics import mean_squared_error\n",
        "from sklearn.preprocessing import PolynomialFeatures\n",
        "from sklearn.svm import  SVR\n",
        "from sklearn import svm\n",
        "from sklearn.neighbors import KNeighborsRegressor\n",
        "\n",
        "regressors = [\n",
        "    svm.SVR(),\n",
        "    KNeighborsRegressor(n_neighbors=3, algorithm='kd_tree'),\n",
        "    linear_model.SGDRegressor(),\n",
        "    linear_model.BayesianRidge(),\n",
        "    linear_model.LassoLars(),\n",
        "    linear_model.LinearRegression(),\n",
        "    linear_model.ElasticNet()]\n",
        "\n",
        "\n",
        "quality = 1e+30\n",
        "\n",
        "for item in regressors:\n",
        "    print(item)\n",
        "    regr = Pipeline([('poly', PolynomialFeatures(2)),\n",
        "                     ('scaler', MinMaxScaler(feature_range = (0, 1))),\n",
        "                    ('linear', item)])\n",
        "    regr.fit(X_train, y_train)\n",
        "    y_pred = regr.predict(X_test)\n",
        "    print('{:10.4e}'.format(mean_squared_error(y_pred, y_test)))\n",
        "    if (quality - mean_squared_error(y_pred, y_test))>0:\n",
        "      quality = mean_squared_error(y_pred, y_test)\n",
        "      model = regr\n",
        "    \n",
        "model.fit(X_train, y_train)\n",
        "y_pred = model.predict(X_test)\n",
        "print('best quality', '{:10.4e}'.format(quality))\n",
        "print('best model', model)"
      ],
      "execution_count": 0,
      "outputs": []
    },
    {
      "cell_type": "code",
      "metadata": {
        "id": "m9t3TpUFFpQN",
        "colab_type": "code",
        "colab": {}
      },
      "source": [
        "fig = plt.figure(figsize=(10, 12))\n",
        "plt.plot(y_pred);\n",
        "plt.plot(y_test)"
      ],
      "execution_count": 0,
      "outputs": []
    },
    {
      "cell_type": "code",
      "metadata": {
        "id": "VTXd3LWfGH5-",
        "colab_type": "code",
        "colab": {}
      },
      "source": [
        "y_pred"
      ],
      "execution_count": 0,
      "outputs": []
    },
    {
      "cell_type": "code",
      "metadata": {
        "id": "rA2vja-TGVSA",
        "colab_type": "code",
        "colab": {}
      },
      "source": [
        ""
      ],
      "execution_count": 0,
      "outputs": []
    },
    {
      "cell_type": "code",
      "metadata": {
        "id": "zurvt-e3F9iw",
        "colab_type": "code",
        "colab": {}
      },
      "source": [
        ""
      ],
      "execution_count": 0,
      "outputs": []
    }
  ]
}