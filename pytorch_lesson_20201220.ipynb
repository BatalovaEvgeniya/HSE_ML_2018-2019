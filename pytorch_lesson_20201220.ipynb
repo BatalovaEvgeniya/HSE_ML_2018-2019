{
  "nbformat": 4,
  "nbformat_minor": 0,
  "metadata": {
    "language_info": {
      "name": "python",
      "version": "3.6.6",
      "mimetype": "text/x-python",
      "codemirror_mode": {
        "name": "ipython",
        "version": 3
      },
      "pygments_lexer": "ipython3",
      "nbconvert_exporter": "python",
      "file_extension": ".py"
    },
    "kernelspec": {
      "display_name": "Python 3",
      "language": "python",
      "name": "python3"
    },
    "colab": {
      "name": "pytorch_lesson_20201220",
      "provenance": [],
      "collapsed_sections": [],
      "toc_visible": true,
      "include_colab_link": true
    }
  },
  "cells": [
    {
      "cell_type": "markdown",
      "metadata": {
        "id": "view-in-github",
        "colab_type": "text"
      },
      "source": [
        "<a href=\"https://colab.research.google.com/github/BatalovaEvgeniya/HSE_ML_2018-2019/blob/master/pytorch_lesson_20201220.ipynb\" target=\"_parent\"><img src=\"https://colab.research.google.com/assets/colab-badge.svg\" alt=\"Open In Colab\"/></a>"
      ]
    },
    {
      "cell_type": "markdown",
      "metadata": {
        "_uuid": "ea9eba414f2f0f1e63ef564dc0ee708c753ff51f",
        "_cell_guid": "4d38db05-fad0-468c-9000-20caf5465eca",
        "id": "KPAuWrROrJxP"
      },
      "source": [
        "<a id=\"4\"></a> <br>\n",
        "### Искусственная Нейронная Сеть/Artificial Neural Network (ANN)\n",
        "- Логистическая регрессия позволяет решать задачу классификации.\n",
        "- Точность логистической регрессии снижается с увеличением сложности(Не линейности) данных.\n",
        "- Следовательно надо увеличить сложность модели.\n",
        "- Чтобы увеличить сложность модели, надо добаваит нелинейные функции в качестве скрытого слоя.\n",
        "- Сделаем предположение что увеличивая сложность нейронной сети добавляя скрытые слои модель сможет лучше адаптироваться. Это результирует в повышении точности.\n",
        "\n",
        "- **Шаги для написания ANN:**\n",
        "    1. Импортировать библиотеки\n",
        "    1. Подготовить датасет\n",
        "        - Тот же самый MNIST датасет что и на предыдущем занятии.\n",
        "        - Напишем новый train_loader и test_loader \n",
        "    1. Создать ANN\n",
        "        - Добавим 3 скрытых слоя.\n",
        "        - Используем ReLU, Tanh и ELU активационные функции для разнообразия.\n",
        "    1. Создать класс моделии\n",
        "        - input_dim = 28х28 # размер изображения px*px\n",
        "        - output_dim = 10  # классы 0,1,2,3,4,5,6,7,8,9\n",
        "        - Размерность скрытого слоя - 150, но мы можем выбрать ее любую. Размерность скрытого слоя является одним из гиперпараметров которые необходимо настраивать и finetune в процессе работы над сетью. Одним из домашних заданий будет попробовать разные значения этого гиперпараметра и сравнить.\n",
        "        - Создать модель\n",
        "    1. Создать экземпляр Loss-функции\n",
        "        - Cross entropy loss - Кросс энтропия\n",
        "        - Добавим softmax(логистическая функция)\n",
        "    1. Создать экземпляр оптимизатора\n",
        "        - SGD() оптимизатор\n",
        "    1. Обучить модель\n",
        "    1. Сделать предсказание\n",
        "\n",
        "- Подводя итоги мы можем увидеть с графика что с уменьшением loss функции, точность увеличивается и наша модель обучается. \n",
        "- Скрытые слои сделали нашу модель более точной и более обучаймой. В данной задаче в среднем она на 95% точнее чем логистическая регрессия."
      ]
    },
    {
      "cell_type": "code",
      "metadata": {
        "id": "S1gMKyejT-L-",
        "colab": {
          "base_uri": "https://localhost:8080/"
        },
        "outputId": "6e48308e-03fd-447e-d79d-26ab36eb42dc"
      },
      "source": [
        "from google.colab import drive\n",
        "drive.mount('/content/gdrive')\n",
        "\n",
        "%cd gdrive/My\\ Drive/'OTUS. DL Basic'/HW_4"
      ],
      "execution_count": null,
      "outputs": [
        {
          "output_type": "stream",
          "text": [
            "Mounted at /content/gdrive\n",
            "/content/gdrive/My Drive/OTUS. DL Basic/HW_4\n"
          ],
          "name": "stdout"
        }
      ]
    },
    {
      "cell_type": "code",
      "metadata": {
        "id": "kQjY1IWZpqx3"
      },
      "source": [
        "# Импортируем библиотеки\n",
        "import torch\n",
        "import torch.nn as nn\n",
        "import matplotlib.pyplot as plt\n",
        "\n",
        "import numpy as np\n",
        "\n",
        "from torch.autograd import Variable\n",
        "from torch.utils.data import DataLoader\n",
        "import pandas as pd\n",
        "from sklearn.model_selection import train_test_split"
      ],
      "execution_count": null,
      "outputs": []
    },
    {
      "cell_type": "code",
      "metadata": {
        "id": "W0pYRw9Qppdp",
        "colab": {
          "base_uri": "https://localhost:8080/",
          "height": 264
        },
        "outputId": "bd9a0cb5-8d04-4e60-e3a1-8d3d20ba3c8d"
      },
      "source": [
        "# Подготовка датасета\n",
        "# Загрузить данные\n",
        "train = pd.read_csv(r\"./train.csv\",dtype = np.float32)\n",
        "\n",
        "# Разобьем данные на пиксели(features) и классы на которые будем делить(цифры от 0 до 9)\n",
        "targets_numpy = train.label.values\n",
        "features_numpy = train.loc[:,train.columns != \"label\"].values/255 # Нормализация\n",
        "\n",
        "# train test split.  Размер тестовый = 0.2, соответсвенно тренировочный будет 0.8. \n",
        "features_train, features_test, targets_train, targets_test = train_test_split(features_numpy,\n",
        "                                                                             targets_numpy,\n",
        "                                                                             test_size = 0.2,\n",
        "                                                                             random_state = 42) \n",
        "\n",
        "# Создадим feature и целевой тензор для тренировочного датасета.\n",
        "# Для того чтобы переменные могли аккумулировать градиенты, мы должны создать тензор в котором они будут хранится.\n",
        "featuresTrain = torch.from_numpy(features_train)\n",
        "targetsTrain = torch.from_numpy(targets_train).type(torch.LongTensor) \n",
        "\n",
        "# Аналогично для тестового датасета.\n",
        "featuresTest = torch.from_numpy(features_test)\n",
        "targetsTest = torch.from_numpy(targets_test).type(torch.LongTensor)\n",
        "\n",
        "# batch_size == размер батча, epoch == количество эпох обучения и iteration == количество итераций\n",
        "batch_size = 100\n",
        "n_iters = 50\n",
        "num_epochs = n_iters / (len(features_train) / batch_size)\n",
        "num_epochs = int(num_epochs)\n",
        "\n",
        "# Датасет в Pytorch \n",
        "train = torch.utils.data.TensorDataset(featuresTrain,targetsTrain)\n",
        "test = torch.utils.data.TensorDataset(featuresTest,targetsTest)\n",
        "\n",
        "# создадим загрузчик данных в PyTorch - data loader\n",
        "train_loader = DataLoader(train, batch_size = batch_size, shuffle = False)\n",
        "test_loader = DataLoader(test, batch_size = batch_size, shuffle = False)\n",
        "\n",
        "# Визуализируем одно из изображений\n",
        "plt.imshow(features_numpy[10].reshape(28,28))\n",
        "plt.axis(\"off\")\n",
        "plt.title(str(targets_numpy[10]))\n",
        "plt.savefig('graph.png')\n",
        "plt.show()"
      ],
      "execution_count": null,
      "outputs": [
        {
          "output_type": "display_data",
          "data": {
            "image/png": "[encoded data removed]",
            "text/plain": [
              "<Figure size 432x288 with 1 Axes>"
            ]
          },
          "metadata": {
            "tags": [],
            "needs_background": "light"
          }
        }
      ]
    },
    {
      "cell_type": "code",
      "metadata": {
        "_uuid": "cf25ee4b28129a47bac4c9dc7d932295155b79f7",
        "_cell_guid": "6925f8ed-54b7-4d9a-9801-acd65f213bc9",
        "trusted": true,
        "id": "mws0145-rJxP"
      },
      "source": [
        "# Импорт библиотек\n",
        "import torch\n",
        "import torch.nn as nn\n",
        "from torch.autograd import Variable"
      ],
      "execution_count": null,
      "outputs": []
    },
    {
      "cell_type": "code",
      "metadata": {
        "_uuid": "cefd0bb2f23b80f30ca65cbb08859ad81ab12e08",
        "_cell_guid": "3472f1c1-5888-4abe-822c-3a493a5f8be5",
        "trusted": true,
        "id": "o6asnzJwrJxR"
      },
      "source": [
        "# Создание ANN модели\n",
        "class ANNModel(nn.Module):\n",
        "    \n",
        "    def __init__(self, input_dim, hidden_dim, output_dim):\n",
        "        super(ANNModel, self).__init__()\n",
        "        \n",
        "        # Линейная функция 1: 784 --> 150\n",
        "        self.fc1 = nn.Linear(input_dim, hidden_dim) \n",
        "        # Не линейная функция 1\n",
        "        self.relu1 = nn.ReLU()\n",
        "        \n",
        "        # Linear function 2: 150 --> 150\n",
        "        self.fc2 = nn.Linear(hidden_dim, hidden_dim)\n",
        "        # Не линейная функция 2\n",
        "        self.tanh2 = nn.Tanh()\n",
        "        \n",
        "        # Linear function 3: 150 --> 150\n",
        "        self.fc3 = nn.Linear(hidden_dim, hidden_dim)\n",
        "        # Не линейная функция 3\n",
        "        self.elu3 = nn.ELU()\n",
        "\n",
        "\n",
        "        self.fc4 = nn.Linear(hidden_dim, hidden_dim)\n",
        "        self.elu4 = nn.ELU()\n",
        "\n",
        "        \n",
        "        self.fc5 = nn.Linear(hidden_dim, hidden_dim)\n",
        "        self.elu5 = nn.ELU()\n",
        "        \n",
        "        # Linear function 4 (readout): 150 --> 10\n",
        "        self.fc6 = nn.Linear(hidden_dim, output_dim)  \n",
        "    \n",
        "    def forward(self, x):\n",
        "        # Линейная функция 1\n",
        "        out = self.fc1(x)\n",
        "        # Не линейная функция 1\n",
        "        out = self.relu1(out)\n",
        "        \n",
        "        # Линейная функция 2\n",
        "        out = self.fc2(out)\n",
        "        # Не линейная функция 2\n",
        "        out = self.tanh2(out)\n",
        "        \n",
        "        #Линейная функция 2\n",
        "        out = self.fc3(out)\n",
        "        # Не линейная функция 2\n",
        "        out = self.elu3(out)\n",
        "\n",
        "\n",
        "        out = self.fc4(out)\n",
        "        out = self.elu4(out)\n",
        "\n",
        "        out = self.fc5(out)\n",
        "        out = self.elu5(out)\n",
        "      \n",
        "        # Линейная функция 4 (readout)\n",
        "        out = self.fc6(out)\n",
        "        return out\n",
        "\n",
        "# Зададим параметры сети ANN\n",
        "input_dim = 28*28\n",
        "hidden_dim = 1000 #Размерности скрытых слоев это гиперпараметры которые настраиваются во время обучения. 150 было выбрано произвольно\n",
        "output_dim = 10\n",
        "\n",
        "# Создадим экземпляр ANN\n",
        "model = ANNModel(input_dim, hidden_dim, output_dim)\n",
        "\n",
        "# Зададим loss функцию как кросс энтропию\n",
        "error = nn.CrossEntropyLoss()\n",
        "\n",
        "# SGD оптимизатор\n",
        "learning_rate = 0.01\n",
        "optimizer = torch.optim.SGD(model.parameters(), lr=learning_rate)"
      ],
      "execution_count": null,
      "outputs": []
    },
    {
      "cell_type": "code",
      "metadata": {
        "_uuid": "c91694f3af94e4e1b76ab01489e186718c70ccd3",
        "_cell_guid": "7550e98b-5011-4d09-88ee-97b0ecbc6f19",
        "trusted": true,
        "id": "br0LKYQKrJxT",
        "colab": {
          "base_uri": "https://localhost:8080/"
        },
        "outputId": "b6806498-04a6-40ea-edfd-b842c294e334"
      },
      "source": [
        "# Обучение модели\n",
        "count = 0\n",
        "loss_list = []\n",
        "iteration_list = []\n",
        "accuracy_list = []\n",
        "lost_test_list = []\n",
        "num_epochs = 100\n",
        "\n",
        "for epoch in range(num_epochs):\n",
        "\n",
        "  for i, (images, labels) in enumerate(train_loader):\n",
        "\n",
        "      train = Variable(images.view(-1, 28*28))\n",
        "      labels = Variable(labels)\n",
        "      \n",
        "      # Обнулим градиенты\n",
        "      optimizer.zero_grad()\n",
        "      \n",
        "      # Проведем forward propagation\n",
        "      outputs = model(train)\n",
        "      \n",
        "      # Посчитаем loss функцию \n",
        "      loss = error(outputs, labels)\n",
        "      # Расчитаем градиенты\n",
        "      loss.backward()\n",
        "      \n",
        "      # Обновим параметры сети\n",
        "      optimizer.step()\n",
        "      \n",
        "      count += 1\n",
        "      if count % 50 == 0:\n",
        "    \n",
        "      # Подсчет точности        \n",
        "        correct = 0\n",
        "        total = 0\n",
        "\n",
        "      # Работа с тестовым датасетом\n",
        "        for images, labels in test_loader:\n",
        "\n",
        "            test = Variable(images.view(-1, 28*28))\n",
        "          \n",
        "            # Проведем Forward propagation\n",
        "            outputs = model(test)\n",
        "            lost_test  = error(outputs, labels)\n",
        "            # Get predictions from the maximum value\n",
        "            predicted = torch.max(outputs.data, 1)[1]\n",
        "            # Total number of labels\n",
        "            total += len(labels)\n",
        "\n",
        "          # Total correct predictions\n",
        "            correct += (predicted == labels).sum()\n",
        "      \n",
        "            accuracy = 100 * correct / float(total) \n",
        "        \n",
        "        \n",
        "          \n",
        "          # Сохраним loss и iteration\n",
        "        loss_list.append(loss.data)\n",
        "        iteration_list.append(count)\n",
        "        accuracy_list.append(accuracy)\n",
        "        lost_test_list.append(lost_test)\n",
        "      if count % 500 == 0:\n",
        "          # Выведем Loss\n",
        "          print('Iteration: {}  Loss: {}  Train Accuracy: {} %'.format(count, loss.data, accuracy))"
      ],
      "execution_count": null,
      "outputs": [
        {
          "output_type": "stream",
          "text": [
            "Iteration: 500  Loss: 2.1742773056030273  Train Accuracy: 51.14285659790039 %\n",
            "Iteration: 1000  Loss: 0.9700703620910645  Train Accuracy: 71.0952377319336 %\n",
            "Iteration: 1500  Loss: 0.5135078430175781  Train Accuracy: 82.73809814453125 %\n",
            "Iteration: 2000  Loss: 0.4276973605155945  Train Accuracy: 86.9047622680664 %\n",
            "Iteration: 2500  Loss: 0.4032948315143585  Train Accuracy: 88.72618865966797 %\n",
            "Iteration: 3000  Loss: 0.2019672393798828  Train Accuracy: 90.30952453613281 %\n",
            "Iteration: 3500  Loss: 0.3041174113750458  Train Accuracy: 91.20237731933594 %\n",
            "Iteration: 4000  Loss: 0.09533078223466873  Train Accuracy: 92.05952453613281 %\n",
            "Iteration: 4500  Loss: 0.3726680874824524  Train Accuracy: 93.22618865966797 %\n",
            "Iteration: 5000  Loss: 0.11996188759803772  Train Accuracy: 93.69047546386719 %\n",
            "Iteration: 5500  Loss: 0.20289920270442963  Train Accuracy: 94.13095092773438 %\n",
            "Iteration: 6000  Loss: 0.24507945775985718  Train Accuracy: 94.4047622680664 %\n",
            "Iteration: 6500  Loss: 0.11524341255426407  Train Accuracy: 95.04762268066406 %\n",
            "Iteration: 7000  Loss: 0.13850855827331543  Train Accuracy: 95.41666412353516 %\n",
            "Iteration: 7500  Loss: 0.13777410984039307  Train Accuracy: 95.61904907226562 %\n",
            "Iteration: 8000  Loss: 0.19156219065189362  Train Accuracy: 95.42857360839844 %\n",
            "Iteration: 8500  Loss: 0.0473698191344738  Train Accuracy: 96.03571319580078 %\n",
            "Iteration: 9000  Loss: 0.04884760454297066  Train Accuracy: 96.26190185546875 %\n",
            "Iteration: 9500  Loss: 0.023648390546441078  Train Accuracy: 96.19047546386719 %\n",
            "Iteration: 10000  Loss: 0.14471985399723053  Train Accuracy: 96.53571319580078 %\n",
            "Iteration: 10500  Loss: 0.027659408748149872  Train Accuracy: 96.30952453613281 %\n",
            "Iteration: 11000  Loss: 0.06822266429662704  Train Accuracy: 96.54762268066406 %\n",
            "Iteration: 11500  Loss: 0.04786497727036476  Train Accuracy: 96.57142639160156 %\n",
            "Iteration: 12000  Loss: 0.041991546750068665  Train Accuracy: 96.72618865966797 %\n",
            "Iteration: 12500  Loss: 0.030145438387989998  Train Accuracy: 96.64286041259766 %\n",
            "Iteration: 13000  Loss: 0.013343247584998608  Train Accuracy: 96.85713958740234 %\n",
            "Iteration: 13500  Loss: 0.04412047937512398  Train Accuracy: 96.79762268066406 %\n",
            "Iteration: 14000  Loss: 0.051269788295030594  Train Accuracy: 96.80952453613281 %\n",
            "Iteration: 14500  Loss: 0.01784726232290268  Train Accuracy: 96.78571319580078 %\n",
            "Iteration: 15000  Loss: 0.015516984276473522  Train Accuracy: 96.85713958740234 %\n",
            "Iteration: 15500  Loss: 0.011457310989499092  Train Accuracy: 96.86904907226562 %\n",
            "Iteration: 16000  Loss: 0.009667111560702324  Train Accuracy: 96.8452377319336 %\n",
            "Iteration: 16500  Loss: 0.009627320803701878  Train Accuracy: 96.80952453613281 %\n",
            "Iteration: 17000  Loss: 0.011960637755692005  Train Accuracy: 96.94047546386719 %\n",
            "Iteration: 17500  Loss: 0.007791277952492237  Train Accuracy: 96.97618865966797 %\n",
            "Iteration: 18000  Loss: 0.00919925794005394  Train Accuracy: 96.96428680419922 %\n",
            "Iteration: 18500  Loss: 0.009599609300494194  Train Accuracy: 96.92857360839844 %\n",
            "Iteration: 19000  Loss: 0.005184590350836515  Train Accuracy: 97.08333587646484 %\n",
            "Iteration: 19500  Loss: 0.0051459334790706635  Train Accuracy: 96.94047546386719 %\n",
            "Iteration: 20000  Loss: 0.004793135914951563  Train Accuracy: 97.07142639160156 %\n",
            "Iteration: 20500  Loss: 0.0049605886451900005  Train Accuracy: 97.04762268066406 %\n",
            "Iteration: 21000  Loss: 0.002750100800767541  Train Accuracy: 97.04762268066406 %\n",
            "Iteration: 21500  Loss: 0.0028931829147040844  Train Accuracy: 97.01190185546875 %\n",
            "Iteration: 22000  Loss: 0.004312544129788876  Train Accuracy: 97.16666412353516 %\n",
            "Iteration: 22500  Loss: 0.0012603843351826072  Train Accuracy: 97.14286041259766 %\n",
            "Iteration: 23000  Loss: 0.0016094521852210164  Train Accuracy: 97.10713958740234 %\n",
            "Iteration: 23500  Loss: 0.0012568463571369648  Train Accuracy: 97.0952377319336 %\n",
            "Iteration: 24000  Loss: 0.0012080458691343665  Train Accuracy: 97.08333587646484 %\n",
            "Iteration: 24500  Loss: 0.004604396875947714  Train Accuracy: 97.10713958740234 %\n",
            "Iteration: 25000  Loss: 0.00692930119112134  Train Accuracy: 97.11904907226562 %\n",
            "Iteration: 25500  Loss: 0.0026150525081902742  Train Accuracy: 97.14286041259766 %\n",
            "Iteration: 26000  Loss: 0.0008092234493233263  Train Accuracy: 97.1547622680664 %\n",
            "Iteration: 26500  Loss: 0.001419499865733087  Train Accuracy: 97.11904907226562 %\n",
            "Iteration: 27000  Loss: 0.0012625083327293396  Train Accuracy: 97.10713958740234 %\n",
            "Iteration: 27500  Loss: 0.0011012810282409191  Train Accuracy: 97.13095092773438 %\n",
            "Iteration: 28000  Loss: 0.0021266317926347256  Train Accuracy: 97.20237731933594 %\n",
            "Iteration: 28500  Loss: 0.0013682161225005984  Train Accuracy: 97.0952377319336 %\n",
            "Iteration: 29000  Loss: 0.0016851931577548385  Train Accuracy: 97.19047546386719 %\n",
            "Iteration: 29500  Loss: 0.0007935028988867998  Train Accuracy: 97.05952453613281 %\n",
            "Iteration: 30000  Loss: 0.0005689971148967743  Train Accuracy: 97.16666412353516 %\n",
            "Iteration: 30500  Loss: 0.0009167492971755564  Train Accuracy: 97.0952377319336 %\n",
            "Iteration: 31000  Loss: 0.0021999815944582224  Train Accuracy: 97.19047546386719 %\n",
            "Iteration: 31500  Loss: 0.0006388550973497331  Train Accuracy: 97.10713958740234 %\n",
            "Iteration: 32000  Loss: 0.0012176285963505507  Train Accuracy: 97.17857360839844 %\n",
            "Iteration: 32500  Loss: 0.0009069046354852617  Train Accuracy: 97.1547622680664 %\n",
            "Iteration: 33000  Loss: 0.0019001185428351164  Train Accuracy: 97.1547622680664 %\n",
            "Iteration: 33500  Loss: 0.0009306235588155687  Train Accuracy: 97.0952377319336 %\n"
          ],
          "name": "stdout"
        }
      ]
    },
    {
      "cell_type": "code",
      "metadata": {
        "_uuid": "c5e2e6da7f1ee801e38358dc28d4c99e32d2b761",
        "_cell_guid": "5579a7d6-7766-4d0f-b9d0-584cb4f28321",
        "trusted": true,
        "id": "2-NwEFZ7rJxW",
        "colab": {
          "base_uri": "https://localhost:8080/",
          "height": 851
        },
        "outputId": "1ccd1746-9e46-45e9-c01f-1920ab1ef5d4"
      },
      "source": [
        "# Визуализация loss \n",
        "plt.plot(iteration_list,loss_list)\n",
        "plt.plot(iteration_list,lost_test_list)\n",
        "plt.xlabel(\"Number of iteration\")\n",
        "plt.ylabel(\"Loss\")\n",
        "plt.title(\"ANN: Loss vs Number of iteration\")\n",
        "plt.show()\n",
        "\n",
        "plt.plot(iteration_list,lost_test_list)\n",
        "plt.xlabel(\"Number of iteration\")\n",
        "plt.ylabel(\"Loss Test\")\n",
        "plt.title(\"ANN: Loss Test vs Number of iteration\")\n",
        "plt.show()\n",
        "\n",
        "# Визуализация accuracy \n",
        "plt.plot(iteration_list,accuracy_list,color = \"red\")\n",
        "plt.xlabel(\"Number of iteration\")\n",
        "plt.ylabel(\"Accuracy\")\n",
        "plt.title(\"ANN: Accuracy vs Number of iteration\")\n",
        "plt.show()"
      ],
      "execution_count": null,
      "outputs": [
        {
          "output_type": "display_data",
          "data": {
            "image/png": "[encoded data removed]",
            "text/plain": [
              "<Figure size 432x288 with 1 Axes>"
            ]
          },
          "metadata": {
            "tags": [],
            "needs_background": "light"
          }
        },
        {
          "output_type": "display_data",
          "data": {
            "image/png": "[encoded data removed]",
            "text/plain": [
              "<Figure size 432x288 with 1 Axes>"
            ]
          },
          "metadata": {
            "tags": [],
            "needs_background": "light"
          }
        },
        {
          "output_type": "display_data",
          "data": {
            "image/png": "[encoded data removed]",
            "text/plain": [
              "<Figure size 432x288 with 1 Axes>"
            ]
          },
          "metadata": {
            "tags": [],
            "needs_background": "light"
          }
        }
      ]
    },
    {
      "cell_type": "code",
      "metadata": {
        "id": "bq87RcVKs-u0"
      },
      "source": [
        ""
      ],
      "execution_count": null,
      "outputs": []
    }
  ]
}